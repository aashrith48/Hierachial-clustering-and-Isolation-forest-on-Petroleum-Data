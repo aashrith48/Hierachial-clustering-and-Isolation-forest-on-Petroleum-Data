{
 "cells": [
  {
   "cell_type": "code",
   "execution_count": 1,
   "metadata": {},
   "outputs": [],
   "source": [
    "import pypandoc"
   ]
  },
  {
   "cell_type": "code",
   "execution_count": 2,
   "metadata": {},
   "outputs": [],
   "source": [
    "import pandas as pd\n",
    "import numpy as np\n",
    "from sklearn.preprocessing import StandardScaler\n",
    "import scipy.cluster.hierarchy as shc\n",
    "from sklearn.cluster import AgglomerativeClustering\n",
    "import matplotlib.pyplot as plt"
   ]
  },
  {
   "cell_type": "code",
   "execution_count": 3,
   "metadata": {},
   "outputs": [],
   "source": [
    "df = pd.read_excel('GIP_EUR_DataSet.xlsx')\n",
    "scaler = StandardScaler()\n",
    "df_scaled = scaler.fit(df)\n",
    "df_scaled = scaler.transform(df)\n"
   ]
  },
  {
   "cell_type": "code",
   "execution_count": 4,
   "metadata": {},
   "outputs": [
    {
     "data": {
      "text/html": [
       "<div>\n",
       "<style scoped>\n",
       "    .dataframe tbody tr th:only-of-type {\n",
       "        vertical-align: middle;\n",
       "    }\n",
       "\n",
       "    .dataframe tbody tr th {\n",
       "        vertical-align: top;\n",
       "    }\n",
       "\n",
       "    .dataframe thead th {\n",
       "        text-align: right;\n",
       "    }\n",
       "</style>\n",
       "<table border=\"1\" class=\"dataframe\">\n",
       "  <thead>\n",
       "    <tr style=\"text-align: right;\">\n",
       "      <th></th>\n",
       "      <th>GIP (BCFperSection)</th>\n",
       "      <th>EURper1000ft</th>\n",
       "    </tr>\n",
       "  </thead>\n",
       "  <tbody>\n",
       "    <tr>\n",
       "      <th>0</th>\n",
       "      <td>49.5</td>\n",
       "      <td>1.710526</td>\n",
       "    </tr>\n",
       "    <tr>\n",
       "      <th>1</th>\n",
       "      <td>49.5</td>\n",
       "      <td>3.552632</td>\n",
       "    </tr>\n",
       "    <tr>\n",
       "      <th>2</th>\n",
       "      <td>52.8</td>\n",
       "      <td>0.263158</td>\n",
       "    </tr>\n",
       "    <tr>\n",
       "      <th>3</th>\n",
       "      <td>52.8</td>\n",
       "      <td>3.377193</td>\n",
       "    </tr>\n",
       "    <tr>\n",
       "      <th>4</th>\n",
       "      <td>56.1</td>\n",
       "      <td>1.754386</td>\n",
       "    </tr>\n",
       "    <tr>\n",
       "      <th>...</th>\n",
       "      <td>...</td>\n",
       "      <td>...</td>\n",
       "    </tr>\n",
       "    <tr>\n",
       "      <th>195</th>\n",
       "      <td>396.0</td>\n",
       "      <td>3.464912</td>\n",
       "    </tr>\n",
       "    <tr>\n",
       "      <th>196</th>\n",
       "      <td>415.8</td>\n",
       "      <td>1.228070</td>\n",
       "    </tr>\n",
       "    <tr>\n",
       "      <th>197</th>\n",
       "      <td>415.8</td>\n",
       "      <td>3.245614</td>\n",
       "    </tr>\n",
       "    <tr>\n",
       "      <th>198</th>\n",
       "      <td>452.1</td>\n",
       "      <td>0.789474</td>\n",
       "    </tr>\n",
       "    <tr>\n",
       "      <th>199</th>\n",
       "      <td>452.1</td>\n",
       "      <td>3.640351</td>\n",
       "    </tr>\n",
       "  </tbody>\n",
       "</table>\n",
       "<p>200 rows × 2 columns</p>\n",
       "</div>"
      ],
      "text/plain": [
       "     GIP (BCFperSection)  EURper1000ft\n",
       "0                   49.5      1.710526\n",
       "1                   49.5      3.552632\n",
       "2                   52.8      0.263158\n",
       "3                   52.8      3.377193\n",
       "4                   56.1      1.754386\n",
       "..                   ...           ...\n",
       "195                396.0      3.464912\n",
       "196                415.8      1.228070\n",
       "197                415.8      3.245614\n",
       "198                452.1      0.789474\n",
       "199                452.1      3.640351\n",
       "\n",
       "[200 rows x 2 columns]"
      ]
     },
     "execution_count": 4,
     "metadata": {},
     "output_type": "execute_result"
    }
   ],
   "source": [
    "df"
   ]
  },
  {
   "cell_type": "code",
   "execution_count": 5,
   "metadata": {},
   "outputs": [
    {
     "data": {
      "text/plain": [
       "<matplotlib.lines.Line2D at 0x2241d954b88>"
      ]
     },
     "execution_count": 5,
     "metadata": {},
     "output_type": "execute_result"
    },
    {
     "data": {
      "image/png": "[encoded data removed]",
      "text/plain": [
       "<Figure size 1080x720 with 1 Axes>"
      ]
     },
     "metadata": {
      "needs_background": "light"
     },
     "output_type": "display_data"
    }
   ],
   "source": [
    "fig, ax = plt.subplots(figsize=(15, 10))\n",
    "dend = shc.dendrogram(shc.linkage(df_scaled, method='ward'))\n",
    "plt.xlabel('Samples')\n",
    "plt.ylabel('Distance')\n",
    "plt.title('Dendrogram') \n",
    "plt.axhline(y=4, color='b', linestyle='--')"
   ]
  },
  {
   "cell_type": "code",
   "execution_count": 6,
   "metadata": {},
   "outputs": [],
   "source": [
    "hc = AgglomerativeClustering(n_clusters=8, affinity='euclidean', linkage='ward')  \n",
    "hc=hc.fit_predict(df_scaled)\n",
    "df_scaled = pd.DataFrame(df_scaled, columns = df.columns[0:2])\n",
    "df_scaled['Cluster'] = hc"
   ]
  },
  {
   "cell_type": "code",
   "execution_count": 7,
   "metadata": {},
   "outputs": [
    {
     "data": {
      "text/plain": [
       "Text(0.5, 0, 'silhouette coefficient')"
      ]
     },
     "execution_count": 7,
     "metadata": {},
     "output_type": "execute_result"
    },
    {
     "data": {
      "image/png": "[encoded data removed]",
      "text/plain": [
       "<Figure size 432x288 with 1 Axes>"
      ]
     },
     "metadata": {
      "needs_background": "light"
     },
     "output_type": "display_data"
    }
   ],
   "source": [
    "from sklearn.metrics import silhouette_samples\n",
    "\n",
    "cluster_labels=np.unique(hc)\n",
    "n_clusters=cluster_labels.shape[0]\n",
    "silhouette_vals=silhouette_samples(df_scaled,hc,metric='euclidean')\n",
    "y_ax_lower, y_ax_upper=0,0\n",
    "yticks=[]\n",
    "for i, c in enumerate (cluster_labels):\n",
    "    c_silhouette_vals= silhouette_vals[hc==c]\n",
    "    c_silhouette_vals.sort()\n",
    "    y_ax_upper += len(c_silhouette_vals)\n",
    "    color= plt.cm.jet(float(i)/n_clusters)\n",
    "    plt.barh(range(y_ax_lower,y_ax_upper),c_silhouette_vals,height=1,edgecolor='none',color=color)\n",
    "    yticks.append((y_ax_lower+y_ax_upper)/2.)\n",
    "    y_ax_lower += len(c_silhouette_vals)\n",
    "silhouette_avg=np.mean(silhouette_vals)\n",
    "plt.axvline(silhouette_avg,color=\"red\",linestyle=\"--\")\n",
    "plt.yticks(yticks, cluster_labels +1)\n",
    "plt.ylabel('Cluster')\n",
    "plt.xlabel('silhouette coefficient')"
   ]
  },
  {
   "cell_type": "code",
   "execution_count": 8,
   "metadata": {},
   "outputs": [],
   "source": [
    "df_scaled['GIP (BCFperSection)']=(df_scaled['GIP (BCFperSection)']*(df['GIP (BCFperSection)'].std())+df['GIP (BCFperSection)'].mean())\n",
    "df_scaled['EURper1000ft']=(df_scaled['EURper1000ft']*(df['EURper1000ft'].std())+df['EURper1000ft'].mean())"
   ]
  },
  {
   "cell_type": "code",
   "execution_count": 9,
   "metadata": {},
   "outputs": [
    {
     "data": {
      "text/html": [
       "<div>\n",
       "<style scoped>\n",
       "    .dataframe tbody tr th:only-of-type {\n",
       "        vertical-align: middle;\n",
       "    }\n",
       "\n",
       "    .dataframe tbody tr th {\n",
       "        vertical-align: top;\n",
       "    }\n",
       "\n",
       "    .dataframe thead th {\n",
       "        text-align: right;\n",
       "    }\n",
       "</style>\n",
       "<table border=\"1\" class=\"dataframe\">\n",
       "  <thead>\n",
       "    <tr style=\"text-align: right;\">\n",
       "      <th></th>\n",
       "      <th>GIP (BCFperSection)</th>\n",
       "      <th>EURper1000ft</th>\n",
       "      <th>Cluster</th>\n",
       "    </tr>\n",
       "  </thead>\n",
       "  <tbody>\n",
       "    <tr>\n",
       "      <th>0</th>\n",
       "      <td>49.122715</td>\n",
       "      <td>1.709294</td>\n",
       "      <td>0</td>\n",
       "    </tr>\n",
       "    <tr>\n",
       "      <th>1</th>\n",
       "      <td>49.122715</td>\n",
       "      <td>3.556021</td>\n",
       "      <td>3</td>\n",
       "    </tr>\n",
       "    <tr>\n",
       "      <th>2</th>\n",
       "      <td>52.430996</td>\n",
       "      <td>0.258293</td>\n",
       "      <td>0</td>\n",
       "    </tr>\n",
       "    <tr>\n",
       "      <th>3</th>\n",
       "      <td>52.430996</td>\n",
       "      <td>3.380143</td>\n",
       "      <td>3</td>\n",
       "    </tr>\n",
       "    <tr>\n",
       "      <th>4</th>\n",
       "      <td>55.739277</td>\n",
       "      <td>1.753263</td>\n",
       "      <td>0</td>\n",
       "    </tr>\n",
       "    <tr>\n",
       "      <th>...</th>\n",
       "      <td>...</td>\n",
       "      <td>...</td>\n",
       "      <td>...</td>\n",
       "    </tr>\n",
       "    <tr>\n",
       "      <th>195</th>\n",
       "      <td>396.492227</td>\n",
       "      <td>3.468082</td>\n",
       "      <td>6</td>\n",
       "    </tr>\n",
       "    <tr>\n",
       "      <th>196</th>\n",
       "      <td>416.341913</td>\n",
       "      <td>1.225627</td>\n",
       "      <td>4</td>\n",
       "    </tr>\n",
       "    <tr>\n",
       "      <th>197</th>\n",
       "      <td>416.341913</td>\n",
       "      <td>3.248234</td>\n",
       "      <td>6</td>\n",
       "    </tr>\n",
       "    <tr>\n",
       "      <th>198</th>\n",
       "      <td>452.733005</td>\n",
       "      <td>0.785930</td>\n",
       "      <td>4</td>\n",
       "    </tr>\n",
       "    <tr>\n",
       "      <th>199</th>\n",
       "      <td>452.733005</td>\n",
       "      <td>3.643961</td>\n",
       "      <td>6</td>\n",
       "    </tr>\n",
       "  </tbody>\n",
       "</table>\n",
       "<p>200 rows × 3 columns</p>\n",
       "</div>"
      ],
      "text/plain": [
       "     GIP (BCFperSection)  EURper1000ft  Cluster\n",
       "0              49.122715      1.709294        0\n",
       "1              49.122715      3.556021        3\n",
       "2              52.430996      0.258293        0\n",
       "3              52.430996      3.380143        3\n",
       "4              55.739277      1.753263        0\n",
       "..                   ...           ...      ...\n",
       "195           396.492227      3.468082        6\n",
       "196           416.341913      1.225627        4\n",
       "197           416.341913      3.248234        6\n",
       "198           452.733005      0.785930        4\n",
       "199           452.733005      3.643961        6\n",
       "\n",
       "[200 rows x 3 columns]"
      ]
     },
     "execution_count": 9,
     "metadata": {},
     "output_type": "execute_result"
    }
   ],
   "source": [
    "df_scaled"
   ]
  },
  {
   "cell_type": "code",
   "execution_count": 10,
   "metadata": {},
   "outputs": [],
   "source": [
    "df_scaled.to_csv('hc-ac.csv')"
   ]
  },
  {
   "cell_type": "code",
   "execution_count": 11,
   "metadata": {},
   "outputs": [
    {
     "data": {
      "text/html": [
       "<div>\n",
       "<style scoped>\n",
       "    .dataframe tbody tr th:only-of-type {\n",
       "        vertical-align: middle;\n",
       "    }\n",
       "\n",
       "    .dataframe tbody tr th {\n",
       "        vertical-align: top;\n",
       "    }\n",
       "\n",
       "    .dataframe thead th {\n",
       "        text-align: right;\n",
       "    }\n",
       "</style>\n",
       "<table border=\"1\" class=\"dataframe\">\n",
       "  <thead>\n",
       "    <tr style=\"text-align: right;\">\n",
       "      <th></th>\n",
       "      <th>Petroleum_Engineer_Age</th>\n",
       "      <th>Petroleum_Engineer_Income (K$)</th>\n",
       "      <th>Spending_Habits (From 1 to 100)</th>\n",
       "      <th>Petroleum_Engineer_Gender_Male</th>\n",
       "    </tr>\n",
       "  </thead>\n",
       "  <tbody>\n",
       "    <tr>\n",
       "      <th>0</th>\n",
       "      <td>19</td>\n",
       "      <td>34.676354</td>\n",
       "      <td>37.05</td>\n",
       "      <td>1</td>\n",
       "    </tr>\n",
       "    <tr>\n",
       "      <th>1</th>\n",
       "      <td>21</td>\n",
       "      <td>34.676354</td>\n",
       "      <td>76.95</td>\n",
       "      <td>1</td>\n",
       "    </tr>\n",
       "    <tr>\n",
       "      <th>2</th>\n",
       "      <td>20</td>\n",
       "      <td>36.988111</td>\n",
       "      <td>5.70</td>\n",
       "      <td>0</td>\n",
       "    </tr>\n",
       "    <tr>\n",
       "      <th>3</th>\n",
       "      <td>23</td>\n",
       "      <td>36.988111</td>\n",
       "      <td>73.15</td>\n",
       "      <td>0</td>\n",
       "    </tr>\n",
       "    <tr>\n",
       "      <th>4</th>\n",
       "      <td>31</td>\n",
       "      <td>39.299868</td>\n",
       "      <td>38.00</td>\n",
       "      <td>0</td>\n",
       "    </tr>\n",
       "    <tr>\n",
       "      <th>...</th>\n",
       "      <td>...</td>\n",
       "      <td>...</td>\n",
       "      <td>...</td>\n",
       "      <td>...</td>\n",
       "    </tr>\n",
       "    <tr>\n",
       "      <th>195</th>\n",
       "      <td>35</td>\n",
       "      <td>277.410832</td>\n",
       "      <td>75.05</td>\n",
       "      <td>0</td>\n",
       "    </tr>\n",
       "    <tr>\n",
       "      <th>196</th>\n",
       "      <td>45</td>\n",
       "      <td>291.281374</td>\n",
       "      <td>26.60</td>\n",
       "      <td>0</td>\n",
       "    </tr>\n",
       "    <tr>\n",
       "      <th>197</th>\n",
       "      <td>32</td>\n",
       "      <td>291.281374</td>\n",
       "      <td>70.30</td>\n",
       "      <td>1</td>\n",
       "    </tr>\n",
       "    <tr>\n",
       "      <th>198</th>\n",
       "      <td>32</td>\n",
       "      <td>316.710700</td>\n",
       "      <td>17.10</td>\n",
       "      <td>1</td>\n",
       "    </tr>\n",
       "    <tr>\n",
       "      <th>199</th>\n",
       "      <td>30</td>\n",
       "      <td>316.710700</td>\n",
       "      <td>78.85</td>\n",
       "      <td>1</td>\n",
       "    </tr>\n",
       "  </tbody>\n",
       "</table>\n",
       "<p>200 rows × 4 columns</p>\n",
       "</div>"
      ],
      "text/plain": [
       "     Petroleum_Engineer_Age  Petroleum_Engineer_Income (K$)  \\\n",
       "0                        19                       34.676354   \n",
       "1                        21                       34.676354   \n",
       "2                        20                       36.988111   \n",
       "3                        23                       36.988111   \n",
       "4                        31                       39.299868   \n",
       "..                      ...                             ...   \n",
       "195                      35                      277.410832   \n",
       "196                      45                      291.281374   \n",
       "197                      32                      291.281374   \n",
       "198                      32                      316.710700   \n",
       "199                      30                      316.710700   \n",
       "\n",
       "     Spending_Habits (From 1 to 100)  Petroleum_Engineer_Gender_Male  \n",
       "0                              37.05                               1  \n",
       "1                              76.95                               1  \n",
       "2                               5.70                               0  \n",
       "3                              73.15                               0  \n",
       "4                              38.00                               0  \n",
       "..                               ...                             ...  \n",
       "195                            75.05                               0  \n",
       "196                            26.60                               0  \n",
       "197                            70.30                               1  \n",
       "198                            17.10                               1  \n",
       "199                            78.85                               1  \n",
       "\n",
       "[200 rows x 4 columns]"
      ]
     },
     "execution_count": 11,
     "metadata": {},
     "output_type": "execute_result"
    }
   ],
   "source": [
    "df1=pd.read_csv('PE_Income_Spending_DataSet.csv')\n",
    "df1 = pd.get_dummies(df1,drop_first=True)\n",
    "df1"
   ]
  },
  {
   "cell_type": "code",
   "execution_count": 12,
   "metadata": {},
   "outputs": [],
   "source": [
    "from sklearn.ensemble import IsolationForest\n"
   ]
  },
  {
   "cell_type": "code",
   "execution_count": 13,
   "metadata": {},
   "outputs": [
    {
     "data": {
      "image/png": "[encoded data removed]",
      "text/plain": [
       "<Figure size 720x720 with 8 Axes>"
      ]
     },
     "metadata": {
      "needs_background": "light"
     },
     "output_type": "display_data"
    }
   ],
   "source": [
    "contaminations = [0.3,0.5, 0.7, 0.9]\n",
    "fig1,ax1 = plt.subplots(2,4,figsize=(10,10))\n",
    "names=[]\n",
    "names1 = []\n",
    "for i,x in enumerate(contaminations):\n",
    "    clf = IsolationForest(n_estimators=100,max_samples=200,random_state=100, contamination=x) \n",
    "    clf.fit(df1)\n",
    "    name  = 'scores_' + str(x)\n",
    "    df1[name]=clf.decision_function(df1)\n",
    "    ax1[0,i].hist(df1[name])\n",
    "    names.append(name)\n",
    "    df1.drop(axis=1,labels=name,inplace=True)\n",
    "    \n"
   ]
  },
  {
   "cell_type": "code",
   "execution_count": 14,
   "metadata": {},
   "outputs": [
    {
     "data": {
      "image/png": "[encoded data removed]",
      "text/plain": [
       "<Figure size 720x720 with 8 Axes>"
      ]
     },
     "metadata": {
      "needs_background": "light"
     },
     "output_type": "display_data"
    }
   ],
   "source": [
    "contaminations = [0.3,0.5, 0.7, 0.9]\n",
    "fig1,ax1 = plt.subplots(2,4,figsize=(10,10))\n",
    "for idx, x in enumerate(contaminations):\n",
    "    \n",
    "    clf = IsolationForest(n_estimators=100,max_samples=200,random_state=100, contamination=x) \n",
    "    clf.fit(df1)\n",
    "    \n",
    "    df1['scores']=clf.decision_function(df1)\n",
    "    \n",
    "    ax1[0,idx].hist(df1['scores'])\n",
    "    ax1[0,1].set_title('Histogram of Average Anomaly Scores: Lower Scores = More Anomalous Samples')\n",
    "    \n",
    "    df1['Anomaly']=clf.predict(df1.iloc[:,:4])\n",
    "    groups = df1.groupby(\"Anomaly\")\n",
    "    for name, group in groups:\n",
    "        ax1[1,idx].plot(group['Petroleum_Engineer_Income (K$)'], group['Spending_Habits (From 1 to 100)'], marker=\"o\", linestyle=\"\", label=name)\n",
    "    ax1[1,idx].set_xlabel('Petroleum Engineer Income')\n",
    "    ax1[1,0].set_ylabel('Petroleum Engineer Spending Habits')\n",
    "    ax1[1,idx].set_title('Isolation Forest Anomalies') \n",
    "    ax1[1,idx].legend(labels=['Anomaly','Normal'])\n",
    "    df1.drop(axis=1,labels=['scores','Anomaly'],inplace=True)\n"
   ]
  },
  {
   "cell_type": "code",
   "execution_count": 15,
   "metadata": {},
   "outputs": [
    {
     "data": {
      "text/plain": [
       "''"
      ]
     },
     "execution_count": 15,
     "metadata": {},
     "output_type": "execute_result"
    }
   ],
   "source": [
    "pypandoc.convert_file('Assignment8.md','docx',outputfile='Assignment8.docx')"
   ]
  },
  {
   "cell_type": "code",
   "execution_count": null,
   "metadata": {},
   "outputs": [],
   "source": []
  }
 ],
 "metadata": {
  "kernelspec": {
   "display_name": "Python 3",
   "language": "python",
   "name": "python3"
  },
  "language_info": {
   "codemirror_mode": {
    "name": "ipython",
    "version": 3
   },
   "file_extension": ".py",
   "mimetype": "text/x-python",
   "name": "python",
   "nbconvert_exporter": "python",
   "pygments_lexer": "ipython3",
   "version": "3.7.6"
  }
 },
 "nbformat": 4,
 "nbformat_minor": 4
}
